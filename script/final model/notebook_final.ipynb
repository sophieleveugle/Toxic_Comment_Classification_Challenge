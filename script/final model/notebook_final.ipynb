{
  "nbformat": 4,
  "nbformat_minor": 0,
  "metadata": {
    "colab": {
      "name": "notebook_final.ipynb",
      "provenance": [],
      "collapsed_sections": [
        "qi6_Ut6hGqRa"
      ],
      "machine_shape": "hm"
    },
    "kernelspec": {
      "name": "python3",
      "display_name": "Python 3"
    },
    "accelerator": "TPU"
  },
  "cells": [
    {
      "cell_type": "markdown",
      "metadata": {
        "id": "qi6_Ut6hGqRa",
        "colab_type": "text"
      },
      "source": [
        "## Import des librairies"
      ]
    },
    {
      "cell_type": "code",
      "metadata": {
        "id": "4KK3QqpTYuj9",
        "colab_type": "code",
        "colab": {
          "base_uri": "https://localhost:8080/",
          "height": 122
        },
        "outputId": "57dce766-e143-4352-9a8c-b8ae71e4c86f"
      },
      "source": [
        "from google.colab import drive\n",
        "drive.mount('/content/drive')"
      ],
      "execution_count": null,
      "outputs": [
        {
          "output_type": "stream",
          "text": [
            "Go to this URL in a browser: https://accounts.google.com/o/oauth2/auth?client_id=947318989803-6bn6qk8qdgf4n4g3pfee6491hc0brc4i.apps.googleusercontent.com&redirect_uri=urn%3aietf%3awg%3aoauth%3a2.0%3aoob&response_type=code&scope=email%20https%3a%2f%2fwww.googleapis.com%2fauth%2fdocs.test%20https%3a%2f%2fwww.googleapis.com%2fauth%2fdrive%20https%3a%2f%2fwww.googleapis.com%2fauth%2fdrive.photos.readonly%20https%3a%2f%2fwww.googleapis.com%2fauth%2fpeopleapi.readonly\n",
            "\n",
            "Enter your authorization code:\n",
            "··········\n",
            "Mounted at /content/drive\n"
          ],
          "name": "stdout"
        }
      ]
    },
    {
      "cell_type": "code",
      "metadata": {
        "id": "TEtRlVoOY0IZ",
        "colab_type": "code",
        "colab": {
          "base_uri": "https://localhost:8080/",
          "height": 34
        },
        "outputId": "cb722ca7-48ee-4847-defa-b6f7ad637bc9"
      },
      "source": [
        "import sys, os, re, csv, codecs, numpy as np, pandas as pd\n",
        "import matplotlib.pyplot as plt\n",
        "%matplotlib inline\n",
        "import tensorflow as tf\n",
        "from tqdm import tqdm\n",
        "from sklearn.model_selection import train_test_split\n",
        "from keras import metrics as m\n",
        "from numpy import zeros\n",
        "from tensorflow.keras.callbacks import EarlyStopping\n",
        "\n",
        "from tensorflow.python.keras.preprocessing.text import Tokenizer\n",
        "from tensorflow.python.keras.preprocessing.sequence import pad_sequences\n",
        "from tensorflow.python.keras.layers import Dense, Input, LSTM, Embedding, Dropout, Activation, GRU, GlobalAveragePooling1D, GlobalMaxPooling1D\n",
        "from tensorflow.python.keras.layers import Bidirectional, GlobalMaxPool1D,Bidirectional, GlobalMaxPool2D, SpatialDropout1D, concatenate, Conv1D\n",
        "from tensorflow.python.keras.models import Model\n",
        "from tensorflow.python.keras import initializers, regularizers, constraints, optimizers, layers\n",
        "import matplotlib.pyplot as plt\n",
        "%matplotlib inline\n",
        "import gensim.models.keyedvectors as word2vec\n",
        "import gc\n",
        "import joblib\n",
        "import pickle"
      ],
      "execution_count": null,
      "outputs": [
        {
          "output_type": "stream",
          "text": [
            "Using TensorFlow backend.\n"
          ],
          "name": "stderr"
        }
      ]
    },
    {
      "cell_type": "markdown",
      "metadata": {
        "id": "uz2XCTffY5q6",
        "colab_type": "text"
      },
      "source": [
        "# Import des données"
      ]
    },
    {
      "cell_type": "code",
      "metadata": {
        "id": "BJP52KdiY40a",
        "colab_type": "code",
        "colab": {}
      },
      "source": [
        "# Dataset labellisé \"train\" disponible sur Kaggle\n",
        "train = pd.read_csv('/content/drive/My Drive/Projet_fil_rouge/data/train.csv')\n",
        "# Dataset non labellisé \"test\" disponible sur Kaggle\n",
        "test = pd.read_csv('/content/drive/My Drive/Projet_fil_rouge/data/test.csv')"
      ],
      "execution_count": null,
      "outputs": []
    },
    {
      "cell_type": "code",
      "metadata": {
        "id": "vMQUO0C9H8pe",
        "colab_type": "code",
        "colab": {}
      },
      "source": [
        "list_classes = [\"toxic\", \"severe_toxic\", \"obscene\", \"threat\", \"insult\", \"identity_hate\"]\n",
        "y = train[list_classes].values\n",
        "list_sentences_train = train[\"comment_text\"]\n",
        "list_sentences_test = test[\"comment_text\"]"
      ],
      "execution_count": null,
      "outputs": []
    },
    {
      "cell_type": "markdown",
      "metadata": {
        "id": "PS1fJMeKY8p6",
        "colab_type": "text"
      },
      "source": [
        "# Nettoyage des données"
      ]
    },
    {
      "cell_type": "code",
      "metadata": {
        "id": "9J3TM5lIY-2x",
        "colab_type": "code",
        "colab": {}
      },
      "source": [
        "def clean_one_comment(comment):\n",
        "    \"\"\"\n",
        "    Clean a sentence (string) by converting it into lower case, removing or replacing unwanted expressions \n",
        "    and removing characters from both left and right.\n",
        "    Arguments:\n",
        "    comment -- string, one training example from X\n",
        "    Returns:\n",
        "    cleaned_comment -- cleaned string\n",
        "    \"\"\"\n",
        "    # Step 1: Transform the string into lower case words\n",
        "    comment_lower = comment.lower()\n",
        "    # Step 2: Remove or replace the unwanted expressions (more could be added)\n",
        "    comment_inter = re.sub(r\"i'm\", \"i am \", comment_lower)\n",
        "    comment_inter = re.sub(r\"what's\", \"what is \", comment_inter)\n",
        "    comment_inter = re.sub(r\"\\'ve\", \" have \", comment_inter)\n",
        "    comment_inter = re.sub(r\"\\'s\", \" \", comment_inter)\n",
        "    comment_inter = re.sub(r\"can't\", \"can not \", comment_inter)\n",
        "    comment_inter = re.sub(r\"n't\", \" not \", comment_inter)\n",
        "    comment_inter = re.sub(r\"\\'re\", \" are \", comment_inter)\n",
        "    comment_inter = re.sub(r\"\\'d\", \" would \", comment_inter)\n",
        "    comment_inter = re.sub(r\"\\'ll\", \" will \", comment_inter)\n",
        "    comment_inter = re.sub(r\"\\'scuse\", \" excuse \", comment_inter)\n",
        "    comment_inter = re.sub('\\W', ' ', comment_inter)\n",
        "    comment_inter = re.sub('\\s+', ' ', comment_inter)\n",
        "    # ...\n",
        "    # Step 3: Remove characters from both left and right \n",
        "    cleaned_comment = comment_inter.strip()\n",
        "    # Remove punctuations and numbers\n",
        "    cleaned_comment = re.sub('[^a-zA-Z]', ' ', cleaned_comment)\n",
        "    # Single character removal\n",
        "    cleaned_comment = re.sub(r\"\\s+[a-zA-Z]\\s+\", ' ', cleaned_comment)\n",
        "    return cleaned_comment"
      ],
      "execution_count": null,
      "outputs": []
    },
    {
      "cell_type": "code",
      "metadata": {
        "id": "tCZWQFzjZC5O",
        "colab_type": "code",
        "colab": {}
      },
      "source": [
        "# Nettoyage des données du dataset de train et de test\n",
        "list_sentences_train = list_sentences_train.apply(lambda x : clean_one_comment(x))\n",
        "list_sentences_test = list_sentences_test.apply(lambda x : clean_one_comment(x))"
      ],
      "execution_count": null,
      "outputs": []
    },
    {
      "cell_type": "markdown",
      "metadata": {
        "id": "aY5G0t_8dVxV",
        "colab_type": "text"
      },
      "source": [
        "# Construction et évaluation des modèles\n",
        "\n",
        "Dans cette partie, on construit puis on évalue deux architectures de réseaux de neurones : un LSTM bidirectionnel et un CNN Conv1D."
      ]
    },
    {
      "cell_type": "markdown",
      "metadata": {
        "id": "F8PwQ08BZNPU",
        "colab_type": "text"
      },
      "source": [
        "## Split Train / Validation à partir du jeu labellisé \"train\""
      ]
    },
    {
      "cell_type": "code",
      "metadata": {
        "id": "5p9d3u9QZC7b",
        "colab_type": "code",
        "colab": {}
      },
      "source": [
        "X_train, X_valid, Y_train, Y_valid = train_test_split(list_sentences_train,y,test_size=0.3,random_state=0)"
      ],
      "execution_count": null,
      "outputs": []
    },
    {
      "cell_type": "code",
      "metadata": {
        "id": "5eFC2NorHsoV",
        "colab_type": "code",
        "colab": {
          "base_uri": "https://localhost:8080/",
          "height": 34
        },
        "outputId": "e7a97ef0-998c-4106-ba91-d3eb323ef8c5"
      },
      "source": [
        "X_train.shape, X_valid.shape"
      ],
      "execution_count": null,
      "outputs": [
        {
          "output_type": "execute_result",
          "data": {
            "text/plain": [
              "((111699,), (47872,))"
            ]
          },
          "metadata": {
            "tags": []
          },
          "execution_count": 9
        }
      ]
    },
    {
      "cell_type": "markdown",
      "metadata": {
        "id": "PtOOZhseG9NT",
        "colab_type": "text"
      },
      "source": [
        "### Tokenisation"
      ]
    },
    {
      "cell_type": "code",
      "metadata": {
        "id": "cMZenuVGZC-V",
        "colab_type": "code",
        "colab": {}
      },
      "source": [
        "max_features = 100000\n",
        "tokenizer = Tokenizer(num_words=max_features)\n",
        "\n",
        "tokenizer.fit_on_texts(list(X_train))\n",
        "list_tokenized_train = tokenizer.texts_to_sequences(X_train)\n",
        "list_tokenized_valid = tokenizer.texts_to_sequences(X_valid)\n",
        "word_index = tokenizer.word_index"
      ],
      "execution_count": null,
      "outputs": []
    },
    {
      "cell_type": "code",
      "metadata": {
        "id": "qt5qW0O8a1Ed",
        "colab_type": "code",
        "colab": {
          "base_uri": "https://localhost:8080/",
          "height": 34
        },
        "outputId": "082d90dd-d675-4339-86d7-6bd6347a4a82"
      },
      "source": [
        "#sauvegarde modèle tokenizer\n",
        "joblib.dump(tokenizer, 'tokenizer.pkl') "
      ],
      "execution_count": null,
      "outputs": [
        {
          "output_type": "execute_result",
          "data": {
            "text/plain": [
              "['tokenizer.pkl']"
            ]
          },
          "metadata": {
            "tags": []
          },
          "execution_count": 55
        }
      ]
    },
    {
      "cell_type": "code",
      "metadata": {
        "id": "cZTE4Xhua5F2",
        "colab_type": "code",
        "colab": {}
      },
      "source": [
        "maxlen = 150\n",
        "X_t = pad_sequences(list_tokenized_train, maxlen=maxlen)\n",
        "X_v = pad_sequences(list_tokenized_valid, maxlen=maxlen)"
      ],
      "execution_count": null,
      "outputs": []
    },
    {
      "cell_type": "markdown",
      "metadata": {
        "id": "z2mp0JKfbJhO",
        "colab_type": "text"
      },
      "source": [
        "## Préparation de l'embedding"
      ]
    },
    {
      "cell_type": "code",
      "metadata": {
        "id": "wfDohKBvbFVs",
        "colab_type": "code",
        "colab": {}
      },
      "source": [
        "embeddings_dictionary_glove = dict()\n",
        "\n",
        "path = '/content/drive/My Drive/Projet Kaggle/Scripts/GLOVE/glove.6B.300d.txt'\n",
        "glove_file = open(path, encoding=\"utf8\")\n",
        "\n",
        "for line in glove_file:\n",
        "    records = line.split()\n",
        "    word = records[0]\n",
        "    vector_dimensions = np.asarray(records[1:], dtype='float32')\n",
        "    embeddings_dictionary_glove[word] = vector_dimensions\n",
        "glove_file.close()\n",
        "\n",
        "embedding_matrix_glove = zeros((len(tokenizer.word_index)+1, 300))\n",
        "for word, index in tokenizer.word_index.items():\n",
        "    embedding_vector = embeddings_dictionary_glove.get(word)\n",
        "    if embedding_vector is not None:\n",
        "        embedding_matrix_glove[index] = embedding_vector"
      ],
      "execution_count": null,
      "outputs": []
    },
    {
      "cell_type": "markdown",
      "metadata": {
        "id": "devbRHf2bNTC",
        "colab_type": "text"
      },
      "source": [
        "## Construction et évaluation du 1er modèle : LSTM bidirectionnel"
      ]
    },
    {
      "cell_type": "code",
      "metadata": {
        "id": "1qG7uurybFX1",
        "colab_type": "code",
        "colab": {
          "base_uri": "https://localhost:8080/",
          "height": 425
        },
        "outputId": "06d73a50-a623-4d23-8058-03ef4767eefd"
      },
      "source": [
        "inp = Input(shape=(maxlen, )) \n",
        "x = Embedding(len(tokenizer.word_index)+1, embedding_matrix_glove.shape[1],weights=[embedding_matrix_glove],trainable=False)(inp)\n",
        "x = SpatialDropout1D(0.2)(x)\n",
        "x = Bidirectional(LSTM(128, return_sequences=True,dropout=0.1,recurrent_dropout=0.1))(x)\n",
        "x = GlobalMaxPooling1D()(x)\n",
        "x = Dense(50, activation=\"relu\")(x)\n",
        "x = Dropout(0.1)(x)\n",
        "x = Dense(6, activation=\"sigmoid\")(x)\n",
        "model = Model(inp, x)\n",
        "model.compile(loss='binary_crossentropy',optimizer='adam',metrics=[m.AUC()])\n",
        "model.summary()"
      ],
      "execution_count": null,
      "outputs": [
        {
          "output_type": "stream",
          "text": [
            "Model: \"model_2\"\n",
            "_________________________________________________________________\n",
            "Layer (type)                 Output Shape              Param #   \n",
            "=================================================================\n",
            "input_3 (InputLayer)         [(None, 150)]             0         \n",
            "_________________________________________________________________\n",
            "embedding_2 (Embedding)      (None, 150, 300)          41283300  \n",
            "_________________________________________________________________\n",
            "spatial_dropout1d_2 (Spatial (None, 150, 300)          0         \n",
            "_________________________________________________________________\n",
            "bidirectional_1 (Bidirection (None, 150, 256)          439296    \n",
            "_________________________________________________________________\n",
            "global_max_pooling1d_2 (Glob (None, 256)               0         \n",
            "_________________________________________________________________\n",
            "dense_4 (Dense)              (None, 50)                12850     \n",
            "_________________________________________________________________\n",
            "dropout_2 (Dropout)          (None, 50)                0         \n",
            "_________________________________________________________________\n",
            "dense_5 (Dense)              (None, 6)                 306       \n",
            "=================================================================\n",
            "Total params: 41,735,752\n",
            "Trainable params: 452,452\n",
            "Non-trainable params: 41,283,300\n",
            "_________________________________________________________________\n"
          ],
          "name": "stdout"
        }
      ]
    },
    {
      "cell_type": "code",
      "metadata": {
        "id": "cgvk0c91pE6q",
        "colab_type": "code",
        "colab": {
          "base_uri": "https://localhost:8080/",
          "height": 865
        },
        "outputId": "565a794e-a5cc-48be-e654-28e040594290"
      },
      "source": [
        "tf.keras.utils.plot_model(model, to_file='/content/drive/My Drive/Projet_fil_rouge/model_plot_lstm.png', \n",
        "                          show_shapes=True, show_layer_names=False)#, rankdir='LR')"
      ],
      "execution_count": null,
      "outputs": [
        {
          "output_type": "execute_result",
          "data": {
            "image/png": "[encoded data removed]",
            "text/plain": [
              "<IPython.core.display.Image object>"
            ]
          },
          "metadata": {
            "tags": []
          },
          "execution_count": 20
        }
      ]
    },
    {
      "cell_type": "code",
      "metadata": {
        "id": "6jrYetV8bFaQ",
        "colab_type": "code",
        "colab": {
          "base_uri": "https://localhost:8080/",
          "height": 204
        },
        "outputId": "96a66e23-e7a1-406a-c59a-39f7cda6d1a6"
      },
      "source": [
        "#entrainement du modèle \n",
        "batch_size = 128\n",
        "epochs = 10\n",
        "model.fit(X_t,Y_train, \n",
        "          batch_size=batch_size, \n",
        "          epochs=epochs, \n",
        "          validation_data=(X_v, Y_valid),\n",
        "          callbacks=EarlyStopping(monitor='val_loss'))"
      ],
      "execution_count": null,
      "outputs": [
        {
          "output_type": "stream",
          "text": [
            "Epoch 1/10\n",
            "873/873 [==============================] - 854s 978ms/step - loss: 0.0735 - auc_3: 0.8868 - val_loss: 0.0508 - val_auc_3: 0.9599\n",
            "Epoch 2/10\n",
            "873/873 [==============================] - 856s 980ms/step - loss: 0.0512 - auc_3: 0.9674 - val_loss: 0.0464 - val_auc_3: 0.9716\n",
            "Epoch 3/10\n",
            "873/873 [==============================] - 875s 1s/step - loss: 0.0466 - auc_3: 0.9742 - val_loss: 0.0459 - val_auc_3: 0.9760\n",
            "Epoch 4/10\n",
            "873/873 [==============================] - 851s 975ms/step - loss: 0.0436 - auc_3: 0.9774 - val_loss: 0.0440 - val_auc_3: 0.9785\n",
            "Epoch 5/10\n",
            "873/873 [==============================] - 845s 968ms/step - loss: 0.0410 - auc_3: 0.9795 - val_loss: 0.0440 - val_auc_3: 0.9803\n"
          ],
          "name": "stdout"
        },
        {
          "output_type": "execute_result",
          "data": {
            "text/plain": [
              "<tensorflow.python.keras.callbacks.History at 0x7f6d262c5b38>"
            ]
          },
          "metadata": {
            "tags": []
          },
          "execution_count": 22
        }
      ]
    },
    {
      "cell_type": "code",
      "metadata": {
        "id": "MzdZynUecDLs",
        "colab_type": "code",
        "colab": {
          "base_uri": "https://localhost:8080/",
          "height": 51
        },
        "outputId": "0266874a-d973-442c-fe6c-eb00d1177866"
      },
      "source": [
        "print(\"Score ROC AUC pour le modèle : %0.3f\" %model.evaluate(X_v, Y_valid)[1])"
      ],
      "execution_count": null,
      "outputs": [
        {
          "output_type": "stream",
          "text": [
            "1496/1496 [==============================] - 168s 113ms/step - loss: 0.0440 - auc_3: 0.9804\n",
            "Score ROC AUC pour le modèle : 0.980\n"
          ],
          "name": "stdout"
        }
      ]
    },
    {
      "cell_type": "markdown",
      "metadata": {
        "id": "AxX7DR0Cchf8",
        "colab_type": "text"
      },
      "source": [
        "## Construction et évaluation du 2nd modèle : CNN (Conv1D)"
      ]
    },
    {
      "cell_type": "code",
      "metadata": {
        "id": "GGD773wGcful",
        "colab_type": "code",
        "colab": {
          "base_uri": "https://localhost:8080/",
          "height": 425
        },
        "outputId": "cc42b371-ceab-475e-a0ad-b29aa707be3f"
      },
      "source": [
        "inp = Input(shape=(maxlen, )) \n",
        "x = Embedding(len(tokenizer.word_index)+1, embedding_matrix_glove.shape[1],weights=[embedding_matrix_glove],trainable=False)(inp)\n",
        "x = SpatialDropout1D(0.2)(x)\n",
        "x = Conv1D(128, 5, activation='relu')(x)\n",
        "x = GlobalMaxPooling1D()(x)\n",
        "x = Dense(50, activation=\"relu\")(x)\n",
        "x = Dropout(0.1)(x)\n",
        "x = Dense(6, activation=\"sigmoid\")(x)\n",
        "model = Model(inp, x)\n",
        "model.compile(loss='binary_crossentropy',optimizer='adam',metrics=[m.AUC()])\n",
        "model.summary()"
      ],
      "execution_count": null,
      "outputs": [
        {
          "output_type": "stream",
          "text": [
            "Model: \"model_1\"\n",
            "_________________________________________________________________\n",
            "Layer (type)                 Output Shape              Param #   \n",
            "=================================================================\n",
            "input_2 (InputLayer)         [(None, 150)]             0         \n",
            "_________________________________________________________________\n",
            "embedding_1 (Embedding)      (None, 150, 300)          41283300  \n",
            "_________________________________________________________________\n",
            "spatial_dropout1d_1 (Spatial (None, 150, 300)          0         \n",
            "_________________________________________________________________\n",
            "conv1d (Conv1D)              (None, 146, 128)          192128    \n",
            "_________________________________________________________________\n",
            "global_max_pooling1d_1 (Glob (None, 128)               0         \n",
            "_________________________________________________________________\n",
            "dense_2 (Dense)              (None, 50)                6450      \n",
            "_________________________________________________________________\n",
            "dropout_1 (Dropout)          (None, 50)                0         \n",
            "_________________________________________________________________\n",
            "dense_3 (Dense)              (None, 6)                 306       \n",
            "=================================================================\n",
            "Total params: 41,482,184\n",
            "Trainable params: 198,884\n",
            "Non-trainable params: 41,283,300\n",
            "_________________________________________________________________\n"
          ],
          "name": "stdout"
        }
      ]
    },
    {
      "cell_type": "code",
      "metadata": {
        "id": "pHw74mVKineu",
        "colab_type": "code",
        "colab": {
          "base_uri": "https://localhost:8080/",
          "height": 865
        },
        "outputId": "dcb4d0ec-0a47-44d2-b011-45c32a290b49"
      },
      "source": [
        "tf.keras.utils.plot_model(model, to_file='/content/drive/My Drive/Projet_fil_rouge/model_plot_cnn.png', \n",
        "                          show_shapes=True, show_layer_names=False)#, rankdir='LR')"
      ],
      "execution_count": null,
      "outputs": [
        {
          "output_type": "execute_result",
          "data": {
            "image/png": "[encoded data removed]",
            "text/plain": [
              "<IPython.core.display.Image object>"
            ]
          },
          "metadata": {
            "tags": []
          },
          "execution_count": 18
        }
      ]
    },
    {
      "cell_type": "code",
      "metadata": {
        "id": "QSkMl7Vfbear",
        "colab_type": "code",
        "colab": {
          "base_uri": "https://localhost:8080/",
          "height": 170
        },
        "outputId": "ae383d20-6631-49a8-a2f1-90641a350961"
      },
      "source": [
        "#entrainement du modèle \n",
        "batch_size = 128\n",
        "epochs = 10\n",
        "model.fit(X_t,Y_train, \n",
        "          batch_size=batch_size, \n",
        "          epochs=epochs, \n",
        "          validation_data=(X_v, Y_valid),\n",
        "          callbacks=EarlyStopping(monitor='val_loss'))"
      ],
      "execution_count": null,
      "outputs": [
        {
          "output_type": "stream",
          "text": [
            "Epoch 1/10\n",
            "873/873 [==============================] - 43s 50ms/step - loss: 0.0778 - auc_2: 0.8844 - val_loss: 0.0532 - val_auc_2: 0.9557\n",
            "Epoch 2/10\n",
            "873/873 [==============================] - 44s 50ms/step - loss: 0.0518 - auc_2: 0.9648 - val_loss: 0.0492 - val_auc_2: 0.9692\n",
            "Epoch 3/10\n",
            "873/873 [==============================] - 43s 49ms/step - loss: 0.0463 - auc_2: 0.9723 - val_loss: 0.0487 - val_auc_2: 0.9742\n",
            "Epoch 4/10\n",
            "873/873 [==============================] - 43s 49ms/step - loss: 0.0417 - auc_2: 0.9760 - val_loss: 0.0517 - val_auc_2: 0.9769\n"
          ],
          "name": "stdout"
        },
        {
          "output_type": "execute_result",
          "data": {
            "text/plain": [
              "<tensorflow.python.keras.callbacks.History at 0x7f6d267f8128>"
            ]
          },
          "metadata": {
            "tags": []
          },
          "execution_count": 19
        }
      ]
    },
    {
      "cell_type": "code",
      "metadata": {
        "id": "XMNW0nWTcxMO",
        "colab_type": "code",
        "colab": {
          "base_uri": "https://localhost:8080/",
          "height": 51
        },
        "outputId": "0991c6b2-2c59-4199-e447-14d337d85ca2"
      },
      "source": [
        "print(\"Score ROC AUC pour le modèle : %0.3f\" %model.evaluate(X_v, Y_valid)[1])"
      ],
      "execution_count": null,
      "outputs": [
        {
          "output_type": "stream",
          "text": [
            "1496/1496 [==============================] - 9s 6ms/step - loss: 0.0517 - auc_2: 0.9765\n",
            "Score ROC AUC pour le modèle : 0.977\n"
          ],
          "name": "stdout"
        }
      ]
    },
    {
      "cell_type": "markdown",
      "metadata": {
        "id": "bPdPf9kGdJ9v",
        "colab_type": "text"
      },
      "source": [
        "# Entrainement du modèle sélectionné sur tout la dataset \"train\" pour calculer les prédictions sur le dataset \"test\""
      ]
    },
    {
      "cell_type": "markdown",
      "metadata": {
        "id": "OJYnryWvHfrz",
        "colab_type": "text"
      },
      "source": [
        "### Entraînement"
      ]
    },
    {
      "cell_type": "code",
      "metadata": {
        "id": "SsUpGlmudIU9",
        "colab_type": "code",
        "colab": {}
      },
      "source": [
        "max_features = 100000\n",
        "tokenizer = Tokenizer(num_words=max_features)\n",
        "tokenizer.fit_on_texts(list(list_sentences_train))\n",
        "list_tokenized_train = tokenizer.texts_to_sequences(list_sentences_train)\n",
        "list_tokenized_test = tokenizer.texts_to_sequences(list_sentences_test)\n",
        "word_index = tokenizer.word_index"
      ],
      "execution_count": null,
      "outputs": []
    },
    {
      "cell_type": "code",
      "metadata": {
        "id": "OgBYwUEKeG7c",
        "colab_type": "code",
        "colab": {
          "base_uri": "https://localhost:8080/",
          "height": 34
        },
        "outputId": "6d358bec-b509-4e36-946d-2e6070d7bf43"
      },
      "source": [
        "#sauvegarde modèle tokenizer\n",
        "joblib.dump(tokenizer, 'tokenizer.pkl') "
      ],
      "execution_count": null,
      "outputs": [
        {
          "output_type": "execute_result",
          "data": {
            "text/plain": [
              "['tokenizer.pkl']"
            ]
          },
          "metadata": {
            "tags": []
          },
          "execution_count": 6
        }
      ]
    },
    {
      "cell_type": "code",
      "metadata": {
        "id": "zOGMm0U7eG_N",
        "colab_type": "code",
        "colab": {}
      },
      "source": [
        "maxlen = 150\n",
        "X_t = pad_sequences(list_tokenized_train, maxlen=maxlen)\n",
        "X_te = pad_sequences(list_tokenized_test, maxlen=maxlen)"
      ],
      "execution_count": null,
      "outputs": []
    },
    {
      "cell_type": "code",
      "metadata": {
        "id": "nrUxYVu8eHCS",
        "colab_type": "code",
        "colab": {}
      },
      "source": [
        "embeddings_dictionary_glove = dict()\n",
        "\n",
        "path = '/content/drive/My Drive/Projet Kaggle/Scripts/GLOVE/glove.6B.300d.txt'\n",
        "glove_file = open(path, encoding=\"utf8\")\n",
        "\n",
        "for line in glove_file:\n",
        "    records = line.split()\n",
        "    word = records[0]\n",
        "    vector_dimensions = np.asarray(records[1:], dtype='float32')\n",
        "    embeddings_dictionary_glove[word] = vector_dimensions\n",
        "glove_file.close()\n",
        "\n",
        "embedding_matrix_glove = zeros((len(tokenizer.word_index)+1, 300))\n",
        "for word, index in tokenizer.word_index.items():\n",
        "    embedding_vector = embeddings_dictionary_glove.get(word)\n",
        "    if embedding_vector is not None:\n",
        "        embedding_matrix_glove[index] = embedding_vector"
      ],
      "execution_count": null,
      "outputs": []
    },
    {
      "cell_type": "code",
      "metadata": {
        "id": "A3OJ5c4weHEc",
        "colab_type": "code",
        "colab": {
          "base_uri": "https://localhost:8080/",
          "height": 425
        },
        "outputId": "7152d7a9-d4f5-40b4-a6b1-d6ba61c89e90"
      },
      "source": [
        "# LSTM\n",
        "inp = Input(shape=(maxlen, )) \n",
        "x = Embedding(len(tokenizer.word_index)+1, embedding_matrix_glove.shape[1],weights=[embedding_matrix_glove],trainable=False)(inp)\n",
        "x = SpatialDropout1D(0.2)(x)\n",
        "x = Bidirectional(LSTM(128, return_sequences=True,dropout=0.1,recurrent_dropout=0.1))(x)\n",
        "x = GlobalMaxPooling1D()(x)\n",
        "x = Dense(50, activation=\"relu\")(x)\n",
        "x = Dropout(0.1)(x)\n",
        "x = Dense(6, activation=\"sigmoid\")(x)\n",
        "model = Model(inp, x)\n",
        "model.compile(loss='binary_crossentropy',optimizer='adam',metrics=[m.AUC()])\n",
        "model.summary()"
      ],
      "execution_count": null,
      "outputs": [
        {
          "output_type": "stream",
          "text": [
            "Model: \"model_3\"\n",
            "_________________________________________________________________\n",
            "Layer (type)                 Output Shape              Param #   \n",
            "=================================================================\n",
            "input_4 (InputLayer)         [(None, 150)]             0         \n",
            "_________________________________________________________________\n",
            "embedding_3 (Embedding)      (None, 150, 300)          50785500  \n",
            "_________________________________________________________________\n",
            "spatial_dropout1d_3 (Spatial (None, 150, 300)          0         \n",
            "_________________________________________________________________\n",
            "bidirectional_2 (Bidirection (None, 150, 256)          439296    \n",
            "_________________________________________________________________\n",
            "global_max_pooling1d_3 (Glob (None, 256)               0         \n",
            "_________________________________________________________________\n",
            "dense_6 (Dense)              (None, 50)                12850     \n",
            "_________________________________________________________________\n",
            "dropout_3 (Dropout)          (None, 50)                0         \n",
            "_________________________________________________________________\n",
            "dense_7 (Dense)              (None, 6)                 306       \n",
            "=================================================================\n",
            "Total params: 51,237,952\n",
            "Trainable params: 452,452\n",
            "Non-trainable params: 50,785,500\n",
            "_________________________________________________________________\n"
          ],
          "name": "stdout"
        }
      ]
    },
    {
      "cell_type": "code",
      "metadata": {
        "id": "taC_xjuLeUcX",
        "colab_type": "code",
        "colab": {
          "base_uri": "https://localhost:8080/",
          "height": 204
        },
        "outputId": "9e2b5a8b-44eb-481b-dccc-ad0924241b7b"
      },
      "source": [
        "#entrainement du modèle avec l'embedding glove\n",
        "batch_size = 128\n",
        "epochs = 5\n",
        "model.fit(X_t,y, \n",
        "          batch_size=batch_size, \n",
        "          epochs=epochs) \n"
      ],
      "execution_count": null,
      "outputs": [
        {
          "output_type": "stream",
          "text": [
            "Epoch 1/5\n",
            "1247/1247 [==============================] - 1086s 871ms/step - loss: 0.0662 - auc_4: 0.9149\n",
            "Epoch 2/5\n",
            "1247/1247 [==============================] - 1080s 866ms/step - loss: 0.0491 - auc_4: 0.9694\n",
            "Epoch 3/5\n",
            "1247/1247 [==============================] - 1075s 862ms/step - loss: 0.0453 - auc_4: 0.9754\n",
            "Epoch 4/5\n",
            "1247/1247 [==============================] - 1087s 872ms/step - loss: 0.0428 - auc_4: 0.9784\n",
            "Epoch 5/5\n",
            "1247/1247 [==============================] - 1083s 869ms/step - loss: 0.0406 - auc_4: 0.9805\n"
          ],
          "name": "stdout"
        },
        {
          "output_type": "execute_result",
          "data": {
            "text/plain": [
              "<tensorflow.python.keras.callbacks.History at 0x7f6d291ed518>"
            ]
          },
          "metadata": {
            "tags": []
          },
          "execution_count": 28
        }
      ]
    },
    {
      "cell_type": "code",
      "metadata": {
        "id": "AWiOaqUXelTi",
        "colab_type": "code",
        "colab": {}
      },
      "source": [
        "# Sauvegarde du modèle\n",
        "model.save('/content/drive/My Drive/Projet_fil_rouge/model_lstm_final2.h5')"
      ],
      "execution_count": null,
      "outputs": []
    },
    {
      "cell_type": "markdown",
      "metadata": {
        "id": "Hso4NUodHks8",
        "colab_type": "text"
      },
      "source": [
        "### Calculs des prédictions pour la soumission à partir du jeu de test non labellisé"
      ]
    },
    {
      "cell_type": "code",
      "metadata": {
        "id": "uFD4QiUPebS4",
        "colab_type": "code",
        "colab": {}
      },
      "source": [
        "y_pred = model.predict(X_te, batch_size=1024)\n",
        "predictions_df = pd.DataFrame(y_pred)\n",
        "submissions = pd.concat([test[\"id\"],predictions_df],axis=1)\n",
        "submissions.columns = [\"id\",\"toxic\", \"severe_toxic\", \"obscene\", \"threat\", \"insult\", \"identity_hate\"]\n",
        "submissions.to_csv('/content/drive/My Drive/Projet_fil_rouge/submissions/soumissions_lstm_final2.csv',index=False)"
      ],
      "execution_count": null,
      "outputs": []
    },
    {
      "cell_type": "code",
      "metadata": {
        "id": "6MB77LGdekdd",
        "colab_type": "code",
        "colab": {}
      },
      "source": [
        ""
      ],
      "execution_count": null,
      "outputs": []
    }
  ]
}